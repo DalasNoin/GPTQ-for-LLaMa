{
 "cells": [
  {
   "attachments": {},
   "cell_type": "markdown",
   "metadata": {},
   "source": [
    "## GPTQ demonstration with 4bit llama with Colab\n",
    "\n",
    "\n",
    "[![Open In Colab](https://colab.research.google.com/assets/colab-badge.svg)](https://colab.research.google.com/github/DalasNoin/GPTQ-for-LLaMa/blob/triton/demonstration.ipynb)"
   ]
  },
  {
   "cell_type": "code",
   "execution_count": null,
   "metadata": {},
   "outputs": [],
   "source": [
    "! pip install accelerate\n",
    "! pip install sentencepiece\n",
    "! pip install transformers\n",
    "! pip install huggingface_hub"
   ]
  },
  {
   "cell_type": "code",
   "execution_count": null,
   "metadata": {},
   "outputs": [],
   "source": [
    "import os\n",
    "from huggingface_hub import snapshot_download\n",
    "\n",
    "checkpoint_location = snapshot_download(\"Neko-Institute-of-Science/LLaMA-13B-4bit-128g\")"
   ]
  },
  {
   "cell_type": "code",
   "execution_count": null,
   "metadata": {},
   "outputs": [],
   "source": [
    "! git clone \"https://github.com/dalasnoin/GPTQ-for-LLaMa.git\"\n",
    "%cd GPTQ-for-LLaMa\n",
    "! pip install -r requirements.txt"
   ]
  },
  {
   "cell_type": "code",
   "execution_count": null,
   "metadata": {},
   "outputs": [],
   "source": [
    "from llama_inference import LlamaWrapper\n",
    "\n",
    "llama_wrapper = LlamaWrapper(model=checkpoint_location,\n",
    "                                 checkpoint=os.path.join(checkpoint_location,checkpoint_name)+\".safetensors\",\n",
    "                                 wbits=4,\n",
    "                                 groupsize=128,\n",
    "                                 fused_mlp=False)"
   ]
  },
  {
   "cell_type": "code",
   "execution_count": null,
   "metadata": {},
   "outputs": [],
   "source": [
    "llama_wrapper(\"Hi, I am llama\")"
   ]
  }
 ],
 "metadata": {
  "language_info": {
   "name": "python"
  },
  "orig_nbformat": 4
 },
 "nbformat": 4,
 "nbformat_minor": 2
}

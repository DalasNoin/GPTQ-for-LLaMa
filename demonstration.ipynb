{
 "cells": [
  {
   "attachments": {},
   "cell_type": "markdown",
   "metadata": {},
   "source": [
    "## GPTQ demonstration with 4bit llama with Colab\n",
    "\n",
    "\n",
    "[![Open In Colab](https://colab.research.google.com/assets/colab-badge.svg)](https://colab.research.google.com/github/DalasNoin/GPTQ-for-LLaMa/blob/triton/demonstration.ipynb)"
   ]
  },
  {
   "cell_type": "code",
   "execution_count": null,
   "metadata": {},
   "outputs": [],
   "source": [
    "! pip install accelerate\n",
    "! pip install sentencepiece\n",
    "! pip install transformers\n",
    "! pip install huggingface_hub"
   ]
  },
  {
   "cell_type": "code",
   "execution_count": null,
   "metadata": {},
   "outputs": [],
   "source": [
    "import os\n",
    "from huggingface_hub import snapshot_download\n",
    "\n",
    "checkpoint_name = \"llama-7b-4bit-128g\"\n",
    "checkpoint_location = snapshot_download(f\"Neko-Institute-of-Science/{checkpoint_name}\") "
   ]
  },
  {
   "cell_type": "code",
   "execution_count": null,
   "metadata": {},
   "outputs": [],
   "source": [
    "! git clone \"https://github.com/dalasnoin/GPTQ-for-LLaMa.git\"\n",
    "%cd GPTQ-for-LLaMa\n",
    "! pip install -r requirements.txt"
   ]
  },
  {
   "cell_type": "code",
   "execution_count": null,
   "metadata": {},
   "outputs": [],
   "source": [
    "from llama_inference import LlamaWrapper\n",
    "\n",
    "llama_wrapper = LlamaWrapper(model=checkpoint_location,\n",
    "                                 checkpoint=os.path.join(checkpoint_location,checkpoint_name)+\".safetensors\",\n",
    "                                 wbits=4,\n",
    "                                 groupsize=128,\n",
    "                                 fused_mlp=False)"
   ]
  },
  {
   "cell_type": "code",
   "execution_count": null,
   "metadata": {},
   "outputs": [],
   "source": [
    "output_text = llama_wrapper(\"Hi, I am llama\")\n",
    "print(output_text)"
   ]
  },
  {
   "cell_type": "code",
   "execution_count": null,
   "metadata": {},
   "outputs": [],
   "source": [
    "system = \"test\"\n",
    "text = \"Hi, I am llama\"\n",
    "filename = \"output.txt\"\n",
    "# delete file if it exists\n",
    "if os.path.exists(filename):\n",
    "    os.remove(filename)\n",
    "# write system and text to file separated y ----- PROMPT -----\n",
    "with open(filename, \"a\") as f:\n",
    "    f.write(\"----- \" + system + \" -----\\n\")\n",
    "    f.write(\"----- PROMPT -----\\n\")\n",
    "    f.write(text)\n",
    "    f.write(\"\\n\")\n",
    "\n",
    "# create n=10 completions for the text and write them to a file output.txt\n",
    "for i in range(10):\n",
    "    output_text = llama_wrapper(\"Hi, I am llama\")\n",
    "    # only use text after the input text\n",
    "    output_text = output_text[len(\"Hi, I am llama\"):]\n",
    "    with open(\"output.txt\", \"a\") as f:\n",
    "        f.write(output_text)\n",
    "        f.write(\"\\n\")\n",
    "\n"
   ]
  }
 ],
 "metadata": {
  "language_info": {
   "name": "python"
  },
  "orig_nbformat": 4
 },
 "nbformat": 4,
 "nbformat_minor": 2
}
